{
 "cells": [
  {
   "cell_type": "code",
   "execution_count": 1,
   "id": "172112d7-fe8d-400e-857b-ef04a6ec9954",
   "metadata": {},
   "outputs": [],
   "source": [
    "inventory={}\n",
    "\n",
    "sales = []  # List to store sales records\n",
    "\n",
    "def add_product(name, price, quantity, category):\n",
    "    if name in inventory:\n",
    "        print(\"Product already exists.\")\n",
    "    else:\n",
    "        inventory[name] = {\"price\": price, \"quantity\": quantity, \"category\": category}\n",
    "        print(\"Product added successfully.\")\n",
    "\n",
    "def view_product():\n",
    "    if not inventory:\n",
    "        print(\"Inventory is empty.\")\n",
    "    else:\n",
    "        print(\"Products:\")\n",
    "        for name, details in inventory.items():\n",
    "            print(f\"Name: {name}, Price: {details['price']}, Quantity: {details['quantity']}, Category: {details['category']}\")\n",
    "\n",
    "def search_product(name):\n",
    "    if name in inventory:\n",
    "        print(f\"Product details - Name: {name}, Price: {inventory[name]['price']}, Quantity: {inventory[name]['quantity']}, Category: {inventory[name]['category']}\")\n",
    "    else:\n",
    "        print(\"Product not found.\")\n",
    "\n",
    "def update_product(name, price=None, quantity=None, category=None):\n",
    "    if name in inventory:\n",
    "        if price is not None:\n",
    "            inventory[name]['price'] = price\n",
    "        if quantity is not None:\n",
    "            inventory[name]['quantity'] = quantity\n",
    "        if category is not None:\n",
    "            inventory[name]['category'] = category\n",
    "        print(\"Product details updated successfully.\")\n",
    "    else:\n",
    "        print(\"Product not found.\")\n",
    "\n",
    "def sell_product(name, quantity_sold):\n",
    "    if name in inventory:\n",
    "        if inventory[name]['quantity'] >= quantity_sold:\n",
    "            inventory[name]['quantity'] -= quantity_sold\n",
    "            total_price = inventory[name]['price'] * quantity_sold\n",
    "            sales.append({\"name\": name, \"quantity_sold\": quantity_sold, \"total_price\": total_price})\n",
    "            print(f\"Sold {quantity_sold} units of {name}. Total Price: {total_price}\")\n",
    "        else:\n",
    "            print(\"Not enough stock available.\")\n",
    "    else:\n",
    "        print(\"Product not found.\")\n",
    "\n",
    "def generate_sales_report():\n",
    "    if not sales:\n",
    "        print(\"No sales have been made yet.\")\n",
    "    else:\n",
    "        print(\"Sales Report:\")\n",
    "        for sale in sales:\n",
    "            print(f\"Product: {sale['name']}, Quantity Sold: {sale['quantity_sold']}, Total Price: {sale['total_price']}\")"
   ]
  },
  {
   "cell_type": "code",
   "execution_count": 3,
   "id": "1a37db65-3586-4083-b1a2-e94a7f58ec3a",
   "metadata": {},
   "outputs": [
    {
     "name": "stdout",
     "output_type": "stream",
     "text": [
      "Product added successfully.\n",
      "Product added successfully.\n"
     ]
    }
   ],
   "source": [
    "add_product(\"laptop\",1000,10,\"electronics\")\n",
    "add_product(\"smartphone\",500,20,\"electonics\")"
   ]
  },
  {
   "cell_type": "code",
   "execution_count": 5,
   "id": "366169e8-27e2-4a33-8826-587c8de4b96d",
   "metadata": {},
   "outputs": [
    {
     "name": "stdout",
     "output_type": "stream",
     "text": [
      "Product details - Name: laptop, Price: 1000, Quantity: 10, Category: electronics\n"
     ]
    }
   ],
   "source": [
    "search_product(\"laptop\")"
   ]
  },
  {
   "cell_type": "code",
   "execution_count": 7,
   "id": "be926855-9aab-4c5c-8f69-7ff171d9aef7",
   "metadata": {},
   "outputs": [
    {
     "name": "stdout",
     "output_type": "stream",
     "text": [
      "Product details updated successfully.\n"
     ]
    }
   ],
   "source": [
    "update_product(\"laptop\",price=1200)"
   ]
  },
  {
   "cell_type": "code",
   "execution_count": 11,
   "id": "0224d5a3-9d99-499d-bca8-56fe5ea2f922",
   "metadata": {},
   "outputs": [
    {
     "name": "stdout",
     "output_type": "stream",
     "text": [
      "Sold 5 units of smartphone. Total Price: 2500\n"
     ]
    }
   ],
   "source": [
    "sell_product(\"smartphone\",5)"
   ]
  },
  {
   "cell_type": "code",
   "execution_count": 13,
   "id": "20a85aa8-6040-4321-b5af-10dfd385b09b",
   "metadata": {},
   "outputs": [
    {
     "name": "stdout",
     "output_type": "stream",
     "text": [
      "Sales Report:\n",
      "Product: smartphone, Quantity Sold: 5, Total Price: 2500\n"
     ]
    }
   ],
   "source": [
    "generate_sales_report()"
   ]
  },
  {
   "cell_type": "code",
   "execution_count": null,
   "id": "b0972008-943a-4b34-a746-d0b88d4ee645",
   "metadata": {},
   "outputs": [],
   "source": []
  }
 ],
 "metadata": {
  "kernelspec": {
   "display_name": "Python 3 (ipykernel)",
   "language": "python",
   "name": "python3"
  },
  "language_info": {
   "codemirror_mode": {
    "name": "ipython",
    "version": 3
   },
   "file_extension": ".py",
   "mimetype": "text/x-python",
   "name": "python",
   "nbconvert_exporter": "python",
   "pygments_lexer": "ipython3",
   "version": "3.12.7"
  }
 },
 "nbformat": 4,
 "nbformat_minor": 5
}
